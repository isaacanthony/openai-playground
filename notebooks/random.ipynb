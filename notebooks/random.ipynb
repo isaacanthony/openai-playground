{
 "cells": [
  {
   "cell_type": "markdown",
   "id": "reduced-despite",
   "metadata": {},
   "source": [
    "# Open AI Gym"
   ]
  },
  {
   "cell_type": "code",
   "execution_count": null,
   "id": "wicked-geography",
   "metadata": {},
   "outputs": [],
   "source": [
    "import gym\n",
    "from IPython import display\n",
    "from matplotlib import pyplot as plt"
   ]
  },
  {
   "cell_type": "code",
   "execution_count": null,
   "id": "classical-memphis",
   "metadata": {},
   "outputs": [],
   "source": [
    "# list(gym.envs.registry.all())"
   ]
  },
  {
   "cell_type": "code",
   "execution_count": null,
   "id": "banner-dress",
   "metadata": {},
   "outputs": [],
   "source": [
    "ENV_NAME = \"SpaceInvaders-v0\"\n",
    "STEPS = 1e3\n",
    "VISUALIZE = True"
   ]
  },
  {
   "cell_type": "code",
   "execution_count": null,
   "id": "expressed-optimum",
   "metadata": {},
   "outputs": [],
   "source": [
    "env = gym.make(ENV_NAME)"
   ]
  },
  {
   "cell_type": "code",
   "execution_count": null,
   "id": "congressional-supplement",
   "metadata": {},
   "outputs": [],
   "source": [
    "env.reset()\n",
    "\n",
    "if VISUALIZE:\n",
    "    img = plt.imshow(env.render(mode='rgb_array'))\n",
    "\n",
    "for i in range(int(STEPS)):\n",
    "    # Take action\n",
    "    action = env.action_space.sample()\n",
    "    observation, reward, done, info = env.step(action)\n",
    "\n",
    "    # Display\n",
    "    if VISUALIZE:\n",
    "        img.set_data(env.render(mode='rgb_array')) # just update the data\n",
    "        display.display(plt.gcf())\n",
    "        display.clear_output(wait=True)\n",
    "\n",
    "    if done:\n",
    "        break"
   ]
  },
  {
   "cell_type": "code",
   "execution_count": null,
   "id": "breathing-specification",
   "metadata": {},
   "outputs": [],
   "source": [
    "env.close()"
   ]
  },
  {
   "cell_type": "code",
   "execution_count": null,
   "id": "coordinate-skirt",
   "metadata": {},
   "outputs": [],
   "source": []
  }
 ],
 "metadata": {
  "kernelspec": {
   "display_name": "Python 3",
   "language": "python",
   "name": "python3"
  },
  "language_info": {
   "codemirror_mode": {
    "name": "ipython",
    "version": 3
   },
   "file_extension": ".py",
   "mimetype": "text/x-python",
   "name": "python",
   "nbconvert_exporter": "python",
   "pygments_lexer": "ipython3",
   "version": "3.8.8"
  }
 },
 "nbformat": 4,
 "nbformat_minor": 5
}
