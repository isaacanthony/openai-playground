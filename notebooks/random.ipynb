{
 "cells": [
  {
   "cell_type": "markdown",
   "id": "forward-format",
   "metadata": {},
   "source": [
    "# Open AI Gym"
   ]
  },
  {
   "cell_type": "code",
   "execution_count": null,
   "id": "bearing-submission",
   "metadata": {},
   "outputs": [],
   "source": [
    "import gnwrapper\n",
    "import gym"
   ]
  },
  {
   "cell_type": "code",
   "execution_count": null,
   "id": "composite-thing",
   "metadata": {},
   "outputs": [],
   "source": [
    "ENV_NAME = \"CartPole-v0\"\n",
    "STEPS = int(1e2)\n",
    "VISUALIZE = True"
   ]
  },
  {
   "cell_type": "code",
   "execution_count": null,
   "id": "cooperative-ivory",
   "metadata": {},
   "outputs": [],
   "source": [
    "# list(gym.envs.registry.all())"
   ]
  },
  {
   "cell_type": "code",
   "execution_count": null,
   "id": "asian-guitar",
   "metadata": {},
   "outputs": [],
   "source": [
    "env = gnwrapper.Animation(gym.make(ENV_NAME))"
   ]
  },
  {
   "cell_type": "code",
   "execution_count": null,
   "id": "premier-length",
   "metadata": {},
   "outputs": [],
   "source": [
    "env.reset()\n",
    "\n",
    "for i in range(STEPS):\n",
    "    action = env.action_space.sample()\n",
    "    observation, reward, done, info = env.step(action)\n",
    "\n",
    "    if VISUALIZE:\n",
    "        env.render()\n",
    "\n",
    "    if done:\n",
    "        env.reset()"
   ]
  },
  {
   "cell_type": "code",
   "execution_count": null,
   "id": "flush-petroleum",
   "metadata": {},
   "outputs": [],
   "source": [
    "env.close()"
   ]
  },
  {
   "cell_type": "code",
   "execution_count": null,
   "id": "closing-forestry",
   "metadata": {},
   "outputs": [],
   "source": []
  }
 ],
 "metadata": {
  "kernelspec": {
   "display_name": "Python 3",
   "language": "python",
   "name": "python3"
  },
  "language_info": {
   "codemirror_mode": {
    "name": "ipython",
    "version": 3
   },
   "file_extension": ".py",
   "mimetype": "text/x-python",
   "name": "python",
   "nbconvert_exporter": "python",
   "pygments_lexer": "ipython3",
   "version": "3.8.8"
  }
 },
 "nbformat": 4,
 "nbformat_minor": 5
}
