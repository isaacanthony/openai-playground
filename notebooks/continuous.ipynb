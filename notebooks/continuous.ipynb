{
 "cells": [
  {
   "cell_type": "markdown",
   "id": "verbal-twelve",
   "metadata": {},
   "source": [
    "# Continuous"
   ]
  },
  {
   "cell_type": "code",
   "execution_count": null,
   "id": "skilled-background",
   "metadata": {},
   "outputs": [],
   "source": [
    "from glob import glob\n",
    "from gnwrapper import Animation\n",
    "import gym\n",
    "import numpy as np\n",
    "\n",
    "from tensorflow.keras.layers import Activation, Concatenate, Dense, Flatten, Input\n",
    "from tensorflow.keras.models import Model, Sequential\n",
    "from tensorflow.keras.optimizers import Adam\n",
    "\n",
    "from rl.agents import DDPGAgent\n",
    "from rl.memory import SequentialMemory\n",
    "from rl.random import OrnsteinUhlenbeckProcess"
   ]
  },
  {
   "cell_type": "code",
   "execution_count": null,
   "id": "educated-anthony",
   "metadata": {},
   "outputs": [],
   "source": [
    "# Constants.\n",
    "ENV_NAME = \"Pendulum-v0\"\n",
    "SEED = 123\n",
    "STEPS = int(1e3)\n",
    "VISUALIZE = True\n",
    "WEIGHTS = f\"../data/dqn_{ENV_NAME}_weights.h5f\""
   ]
  },
  {
   "cell_type": "code",
   "execution_count": null,
   "id": "chemical-island",
   "metadata": {},
   "outputs": [],
   "source": [
    "# Build environment.\n",
    "env = Animation(gym.make(ENV_NAME))\n",
    "np.random.seed(SEED)\n",
    "env.seed(SEED)\n",
    "nb_actions = env.action_space.shape[0]"
   ]
  },
  {
   "cell_type": "code",
   "execution_count": null,
   "id": "relative-criticism",
   "metadata": {},
   "outputs": [],
   "source": [
    "# Build model.\n",
    "actor = Sequential()\n",
    "\n",
    "actor.add(Flatten(input_shape=(1,) + env.observation_space.shape))\n",
    "actor.add(Dense(16))\n",
    "actor.add(Activation(\"relu\"))\n",
    "actor.add(Dense(16))\n",
    "actor.add(Activation(\"relu\"))\n",
    "actor.add(Dense(16))\n",
    "actor.add(Activation(\"relu\"))\n",
    "actor.add(Dense(nb_actions))\n",
    "actor.add(Activation(\"linear\"))\n",
    "\n",
    "actor.summary()"
   ]
  },
  {
   "cell_type": "code",
   "execution_count": null,
   "id": "abroad-respondent",
   "metadata": {},
   "outputs": [],
   "source": [
    "action_input = Input(shape=(nb_actions,), name=\"action_input\")\n",
    "observation_input = Input(shape=(1,) + env.observation_space.shape, name=\"observation_input\")\n",
    "flattened_observation = Flatten()(observation_input)\n",
    "\n",
    "x = Concatenate()([action_input, flattened_observation])\n",
    "x = Dense(32)(x)\n",
    "x = Activation(\"relu\")(x)\n",
    "x = Dense(32)(x)\n",
    "x = Activation(\"relu\")(x)\n",
    "x = Dense(32)(x)\n",
    "x = Activation(\"relu\")(x)\n",
    "x = Dense(1)(x)\n",
    "x = Activation(\"linear\")(x)\n",
    "\n",
    "critic = Model(inputs=[action_input, observation_input], outputs=x)\n",
    "critic.summary()"
   ]
  },
  {
   "cell_type": "code",
   "execution_count": null,
   "id": "mediterranean-character",
   "metadata": {},
   "outputs": [],
   "source": [
    "# Build agent.\n",
    "memory = SequentialMemory(limit=STEPS, window_length=1)\n",
    "random_process = OrnsteinUhlenbeckProcess(size=nb_actions, theta=.15, mu=0., sigma=.3)\n",
    "\n",
    "agent = DDPGAgent(\n",
    "    nb_actions=nb_actions,\n",
    "    actor=actor,\n",
    "    critic=critic,\n",
    "    critic_action_input=action_input,\n",
    "    memory=memory,\n",
    "    nb_steps_warmup_critic=100,\n",
    "    nb_steps_warmup_actor=100,\n",
    "    random_process=random_process,\n",
    "    gamma=.99,\n",
    "    target_model_update=1e-3,\n",
    ")\n",
    "\n",
    "agent.compile(Adam(lr=.001, clipnorm=1.), metrics=[\"mae\"])"
   ]
  },
  {
   "cell_type": "code",
   "execution_count": null,
   "id": "molecular-banks",
   "metadata": {},
   "outputs": [],
   "source": [
    "# Load weights if exist.\n",
    "if glob(WEIGHTS + \"*\"):\n",
    "    agent.load_weights(WEIGHTS)"
   ]
  },
  {
   "cell_type": "code",
   "execution_count": null,
   "id": "virtual-multimedia",
   "metadata": {},
   "outputs": [],
   "source": [
    "# Train.\n",
    "env = Animation(gym.make(ENV_NAME))\n",
    "agent.fit(env, nb_steps=STEPS, visualize=VISUALIZE, verbose=2)"
   ]
  },
  {
   "cell_type": "code",
   "execution_count": null,
   "id": "capable-executive",
   "metadata": {},
   "outputs": [],
   "source": [
    "# Save weights.\n",
    "agent.save_weights(WEIGHTS, overwrite=True)"
   ]
  },
  {
   "cell_type": "code",
   "execution_count": null,
   "id": "classified-gates",
   "metadata": {},
   "outputs": [],
   "source": [
    "# Evaluate.\n",
    "env = Animation(gym.make(ENV_NAME))\n",
    "agent.test(env, nb_episodes=5, visualize=VISUALIZE)"
   ]
  },
  {
   "cell_type": "code",
   "execution_count": null,
   "id": "controversial-special",
   "metadata": {},
   "outputs": [],
   "source": []
  }
 ],
 "metadata": {
  "kernelspec": {
   "display_name": "Python 3",
   "language": "python",
   "name": "python3"
  },
  "language_info": {
   "codemirror_mode": {
    "name": "ipython",
    "version": 3
   },
   "file_extension": ".py",
   "mimetype": "text/x-python",
   "name": "python",
   "nbconvert_exporter": "python",
   "pygments_lexer": "ipython3",
   "version": "3.8.8"
  }
 },
 "nbformat": 4,
 "nbformat_minor": 5
}
