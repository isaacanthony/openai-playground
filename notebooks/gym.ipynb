{
 "cells": [
  {
   "cell_type": "markdown",
   "id": "effective-weekend",
   "metadata": {},
   "source": [
    "# Open AI Gym"
   ]
  },
  {
   "cell_type": "code",
   "execution_count": null,
   "id": "behind-refrigerator",
   "metadata": {},
   "outputs": [],
   "source": [
    "import gym\n",
    "from os import listdir, remove\n",
    "from matplotlib import pyplot as plt\n",
    "import pyvirtualdisplay"
   ]
  },
  {
   "cell_type": "code",
   "execution_count": null,
   "id": "ideal-professor",
   "metadata": {},
   "outputs": [],
   "source": [
    "pyvirtualdisplay.Display(visible=0, size=(1400, 900)).start()"
   ]
  },
  {
   "cell_type": "code",
   "execution_count": null,
   "id": "minute-philip",
   "metadata": {},
   "outputs": [],
   "source": [
    "for file in listdir(\"../data\"):\n",
    "    if file.endswith(\".png\"):\n",
    "        remove(f\"../data/{file}\")"
   ]
  },
  {
   "cell_type": "code",
   "execution_count": null,
   "id": "stupid-ancient",
   "metadata": {},
   "outputs": [],
   "source": [
    "env = gym.make(\"CartPole-v0\")\n",
    "env.reset()"
   ]
  },
  {
   "cell_type": "code",
   "execution_count": null,
   "id": "expensive-witness",
   "metadata": {},
   "outputs": [],
   "source": [
    "for i in range(100):\n",
    "    env.render()\n",
    "    observation, reward, done, info = env.step(env.action_space.sample())\n",
    "\n",
    "    plt.imshow(env.render(mode=\"rgb_array\"))\n",
    "    plt.savefig(f\"../data/{i}.png\")\n",
    "\n",
    "    if done:\n",
    "        break"
   ]
  },
  {
   "cell_type": "code",
   "execution_count": null,
   "id": "noble-elevation",
   "metadata": {},
   "outputs": [],
   "source": [
    "env.close()"
   ]
  },
  {
   "cell_type": "code",
   "execution_count": null,
   "id": "annual-alignment",
   "metadata": {},
   "outputs": [],
   "source": []
  }
 ],
 "metadata": {
  "kernelspec": {
   "display_name": "Python 3",
   "language": "python",
   "name": "python3"
  },
  "language_info": {
   "codemirror_mode": {
    "name": "ipython",
    "version": 3
   },
   "file_extension": ".py",
   "mimetype": "text/x-python",
   "name": "python",
   "nbconvert_exporter": "python",
   "pygments_lexer": "ipython3",
   "version": "3.8.8"
  }
 },
 "nbformat": 4,
 "nbformat_minor": 5
}
