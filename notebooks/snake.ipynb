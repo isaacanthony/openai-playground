{
 "cells": [
  {
   "cell_type": "markdown",
   "id": "endangered-content",
   "metadata": {},
   "source": [
    "# Snake"
   ]
  },
  {
   "cell_type": "code",
   "execution_count": null,
   "id": "constitutional-provision",
   "metadata": {},
   "outputs": [],
   "source": [
    "!pip3 install gym-snake==0.1.7"
   ]
  },
  {
   "cell_type": "code",
   "execution_count": null,
   "id": "freelance-publisher",
   "metadata": {},
   "outputs": [],
   "source": [
    "from gnwrapper import Animation\n",
    "import gym\n",
    "import gym_snake"
   ]
  },
  {
   "cell_type": "code",
   "execution_count": null,
   "id": "necessary-bridge",
   "metadata": {},
   "outputs": [],
   "source": [
    "env = Animation(gym.make('Snake-v0'))"
   ]
  },
  {
   "cell_type": "code",
   "execution_count": null,
   "id": "civil-subsection",
   "metadata": {},
   "outputs": [],
   "source": [
    "env.reset()\n",
    "\n",
    "for _ in range(100):\n",
    "    env.render()\n",
    "    action = env.action_space.sample()\n",
    "    observation, reward, done, info = env.step(action)\n",
    "\n",
    "    if done:\n",
    "        env.reset()"
   ]
  },
  {
   "cell_type": "code",
   "execution_count": null,
   "id": "normal-aviation",
   "metadata": {},
   "outputs": [],
   "source": [
    "env.close()"
   ]
  },
  {
   "cell_type": "code",
   "execution_count": null,
   "id": "greatest-variable",
   "metadata": {},
   "outputs": [],
   "source": []
  }
 ],
 "metadata": {
  "kernelspec": {
   "display_name": "Python 3",
   "language": "python",
   "name": "python3"
  },
  "language_info": {
   "codemirror_mode": {
    "name": "ipython",
    "version": 3
   },
   "file_extension": ".py",
   "mimetype": "text/x-python",
   "name": "python",
   "nbconvert_exporter": "python",
   "pygments_lexer": "ipython3",
   "version": "3.8.8"
  }
 },
 "nbformat": 4,
 "nbformat_minor": 5
}
