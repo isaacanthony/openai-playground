{
 "cells": [
  {
   "cell_type": "markdown",
   "id": "italian-resistance",
   "metadata": {},
   "source": [
    "# PyGame Learning Environment"
   ]
  },
  {
   "cell_type": "code",
   "execution_count": null,
   "id": "sunset-nigeria",
   "metadata": {},
   "outputs": [],
   "source": [
    "!pip3 install git+https://github.com/ntasfi/PyGame-Learning-Environment.git"
   ]
  },
  {
   "cell_type": "code",
   "execution_count": null,
   "id": "rocky-tribute",
   "metadata": {},
   "outputs": [],
   "source": [
    "from gnwrapper import Animation\n",
    "import gym\n",
    "from ple_env import PLEEnv"
   ]
  },
  {
   "cell_type": "code",
   "execution_count": null,
   "id": "compliant-stuart",
   "metadata": {},
   "outputs": [],
   "source": [
    "ENV_NAMES = [\n",
    "    \"Catcher\",\n",
    "    \"MonsterKong\",  # broken\n",
    "    \"FlappyBird\",   # broken\n",
    "    \"PixelCopter\",  # broken\n",
    "    \"PuckWorld\",\n",
    "    \"RaycastMaze\",  # broken\n",
    "    \"Snake\",\n",
    "    \"WaterWorld\",\n",
    "]"
   ]
  },
  {
   "cell_type": "code",
   "execution_count": null,
   "id": "maritime-bottle",
   "metadata": {},
   "outputs": [],
   "source": [
    "ENV_NAME = \"Catcher\"\n",
    "STEPS = int(1e2)\n",
    "VISUALIZE = True"
   ]
  },
  {
   "cell_type": "code",
   "execution_count": null,
   "id": "close-insertion",
   "metadata": {},
   "outputs": [],
   "source": [
    "env = Animation(PLEEnv(game_name=ENV_NAME))"
   ]
  },
  {
   "cell_type": "code",
   "execution_count": null,
   "id": "signal-barcelona",
   "metadata": {},
   "outputs": [],
   "source": [
    "env.reset()\n",
    "\n",
    "for i in range(STEPS):\n",
    "    action = env.action_space.sample()\n",
    "    observation, reward, done, info = env.step(action)\n",
    "\n",
    "    if VISUALIZE:\n",
    "        env.render()\n",
    "\n",
    "    if done:\n",
    "        env.reset()"
   ]
  },
  {
   "cell_type": "code",
   "execution_count": null,
   "id": "boxed-wound",
   "metadata": {},
   "outputs": [],
   "source": []
  }
 ],
 "metadata": {
  "kernelspec": {
   "display_name": "Python 3",
   "language": "python",
   "name": "python3"
  },
  "language_info": {
   "codemirror_mode": {
    "name": "ipython",
    "version": 3
   },
   "file_extension": ".py",
   "mimetype": "text/x-python",
   "name": "python",
   "nbconvert_exporter": "python",
   "pygments_lexer": "ipython3",
   "version": "3.8.8"
  }
 },
 "nbformat": 4,
 "nbformat_minor": 5
}
