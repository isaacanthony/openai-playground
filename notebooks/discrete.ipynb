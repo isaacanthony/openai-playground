{
 "cells": [
  {
   "cell_type": "markdown",
   "id": "fifth-dialogue",
   "metadata": {},
   "source": [
    "# Discrete"
   ]
  },
  {
   "cell_type": "code",
   "execution_count": null,
   "id": "spatial-carter",
   "metadata": {},
   "outputs": [],
   "source": [
    "from glob import glob\n",
    "from gnwrapper import Animation\n",
    "import gym\n",
    "import numpy as np\n",
    "\n",
    "from tensorflow.keras.layers import Activation, Dense, Flatten\n",
    "from tensorflow.keras.models import Sequential\n",
    "from tensorflow.keras.optimizers import Adam\n",
    "\n",
    "from rl.agents.dqn import DQNAgent\n",
    "from rl.memory import SequentialMemory\n",
    "from rl.policy import BoltzmannQPolicy"
   ]
  },
  {
   "cell_type": "code",
   "execution_count": null,
   "id": "attached-coverage",
   "metadata": {},
   "outputs": [],
   "source": [
    "# Constants.\n",
    "ENV_NAME = \"CartPole-v0\"\n",
    "SEED = 123\n",
    "STEPS = int(1e3)\n",
    "VISUALIZE = True\n",
    "WEIGHTS = f\"../data/{ENV_NAME}/weights.h5f\""
   ]
  },
  {
   "cell_type": "code",
   "execution_count": null,
   "id": "alone-storage",
   "metadata": {},
   "outputs": [],
   "source": [
    "# Build environment.\n",
    "env = Animation(gym.make(ENV_NAME))\n",
    "np.random.seed(SEED)\n",
    "env.seed(SEED)\n",
    "nb_actions = env.action_space.n"
   ]
  },
  {
   "cell_type": "code",
   "execution_count": null,
   "id": "excess-storage",
   "metadata": {},
   "outputs": [],
   "source": [
    "# Build model.\n",
    "model = Sequential()\n",
    "\n",
    "model.add(Flatten(input_shape=(1,) + env.observation_space.shape))\n",
    "model.add(Dense(16))\n",
    "model.add(Activation(\"relu\"))\n",
    "model.add(Dense(16))\n",
    "model.add(Activation(\"relu\"))\n",
    "model.add(Dense(16))\n",
    "model.add(Activation(\"relu\"))\n",
    "model.add(Dense(nb_actions))\n",
    "model.add(Activation(\"linear\"))\n",
    "\n",
    "model.summary()"
   ]
  },
  {
   "cell_type": "code",
   "execution_count": null,
   "id": "subsequent-artist",
   "metadata": {},
   "outputs": [],
   "source": [
    "# Build agent.\n",
    "memory = SequentialMemory(limit=STEPS, window_length=1)\n",
    "policy = BoltzmannQPolicy()\n",
    "\n",
    "agent = DQNAgent(\n",
    "    model=model,\n",
    "    nb_actions=nb_actions,\n",
    "    memory=memory,\n",
    "    nb_steps_warmup=10,\n",
    "    target_model_update=1e-2,\n",
    "    policy=policy,\n",
    ")\n",
    "\n",
    "agent.compile(Adam(lr=1e-3), metrics=[\"mae\"])"
   ]
  },
  {
   "cell_type": "code",
   "execution_count": null,
   "id": "political-planet",
   "metadata": {},
   "outputs": [],
   "source": [
    "# Load weights if exist.\n",
    "if glob(WEIGHTS.replace(\".h5f\", \"\") + \"*\"):\n",
    "    print(\"Loading weights...\")\n",
    "    agent.load_weights(WEIGHTS)"
   ]
  },
  {
   "cell_type": "code",
   "execution_count": null,
   "id": "compatible-appraisal",
   "metadata": {},
   "outputs": [],
   "source": [
    "# Train.\n",
    "env = Animation(gym.make(ENV_NAME))\n",
    "agent.fit(env, nb_steps=STEPS, visualize=VISUALIZE, verbose=2)"
   ]
  },
  {
   "cell_type": "code",
   "execution_count": null,
   "id": "headed-eagle",
   "metadata": {},
   "outputs": [],
   "source": [
    "# Save weights.\n",
    "agent.save_weights(WEIGHTS, overwrite=True)"
   ]
  },
  {
   "cell_type": "code",
   "execution_count": null,
   "id": "legislative-commitment",
   "metadata": {},
   "outputs": [],
   "source": [
    "# Evaluate.\n",
    "env = Animation(gym.make(ENV_NAME))\n",
    "agent.test(env, nb_episodes=5, visualize=VISUALIZE)"
   ]
  },
  {
   "cell_type": "code",
   "execution_count": null,
   "id": "wanted-somerset",
   "metadata": {},
   "outputs": [],
   "source": []
  }
 ],
 "metadata": {
  "kernelspec": {
   "display_name": "Python 3",
   "language": "python",
   "name": "python3"
  },
  "language_info": {
   "codemirror_mode": {
    "name": "ipython",
    "version": 3
   },
   "file_extension": ".py",
   "mimetype": "text/x-python",
   "name": "python",
   "nbconvert_exporter": "python",
   "pygments_lexer": "ipython3",
   "version": "3.8.8"
  }
 },
 "nbformat": 4,
 "nbformat_minor": 5
}
